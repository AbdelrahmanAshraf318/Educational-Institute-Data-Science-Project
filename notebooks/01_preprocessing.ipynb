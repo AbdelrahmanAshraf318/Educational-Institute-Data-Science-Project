{
 "cells": [
  {
   "cell_type": "code",
   "execution_count": 1,
   "id": "8b478d1a-b3e5-44c5-be89-dc1161c47a05",
   "metadata": {},
   "outputs": [],
   "source": [
    "#Constatnts\n",
    "DATA_PATH = '../data/raw/survey_results_public.csv'\n",
    "EXPORT_PATH = \"../data/processed/1_preprocessed_df.pkl\"\n",
    "REPLACE_DICT = {\n",
    "    'YearsCodePro': {'Less than 1 year': 0, 'More than 50 years': 51}, \n",
    "    'YearsCode':    {'Less than 1 year': 0, 'More than 50 years': 51}}"
   ]
  },
  {
   "cell_type": "code",
   "execution_count": 2,
   "id": "b0a712b5-fd5d-457a-bfee-4434420ef26d",
   "metadata": {},
   "outputs": [],
   "source": [
    "#Load packages\n",
    "import pandas as pd\n",
    "import numpy as np\n",
    "import pickle"
   ]
  },
  {
   "cell_type": "markdown",
   "id": "a89056e7-f289-4290-9494-51998ce372bd",
   "metadata": {},
   "source": [
    "### Functions"
   ]
  },
  {
   "cell_type": "code",
   "execution_count": 3,
   "id": "fc0822d9-d3aa-45bd-8952-c6f28a813b9b",
   "metadata": {},
   "outputs": [],
   "source": [
    "def is_splitted(data, delimeter):\n",
    "    return data.str.contains(delimeter)"
   ]
  },
  {
   "cell_type": "code",
   "execution_count": 4,
   "id": "b51c4eba-e9b4-4082-acf6-9bda6449d879",
   "metadata": {},
   "outputs": [],
   "source": [
    "def split_text_by_delimeter(data, delimeter=';'):\n",
    "    splittable_values = is_splitted(data, delimeter)\n",
    "    if not splittable_values.any():\n",
    "        return data\n",
    "    \n",
    "    # Split out the two values in the third row\n",
    "    modified_series = data.str.split(delimeter)\n",
    "\n",
    "    # Replace NAs with empty lists \n",
    "    mask_null = modified_series.isnull()\n",
    "    modified_series.loc[mask_null] = modified_series.loc[mask_null].apply(lambda x: [])\n",
    "   \n",
    "    return modified_series"
   ]
  },
  {
   "cell_type": "markdown",
   "id": "ce2ec275-cb43-40ae-a975-9ba26e2571dd",
   "metadata": {},
   "source": [
    "### Processing"
   ]
  },
  {
   "cell_type": "markdown",
   "id": "65739c73-658c-4539-bb70-77b27fbd157b",
   "metadata": {},
   "source": [
    "### Process Data"
   ]
  },
  {
   "cell_type": "code",
   "execution_count": 5,
   "id": "57ebecff-e100-4f7f-8dda-4db5dffbacd4",
   "metadata": {},
   "outputs": [],
   "source": [
    "raw_df = pd.read_csv(DATA_PATH)\n",
    "df = raw_df.copy()"
   ]
  },
  {
   "cell_type": "markdown",
   "id": "661d9f89-0fe1-4f27-be58-af3e44a1b0da",
   "metadata": {},
   "source": [
    "### 1. Replace Values and parse"
   ]
  },
  {
   "cell_type": "code",
   "execution_count": 6,
   "id": "4d0a9cd6-83d5-4252-8aed-52dad7447190",
   "metadata": {},
   "outputs": [],
   "source": [
    "for col, replacement in REPLACE_DICT.items():\n",
    "    df[col] = df[col].replace(replacement).astype(np.float32)"
   ]
  },
  {
   "cell_type": "markdown",
   "id": "67a7a18c-1bca-4e95-ad96-04a4c7a43d85",
   "metadata": {},
   "source": [
    "### Split multiple answers"
   ]
  },
  {
   "cell_type": "code",
   "execution_count": 7,
   "id": "222fd911-5151-4542-b34a-3ee8cc9809e0",
   "metadata": {},
   "outputs": [],
   "source": [
    "object_cols = df.select_dtypes(include='object').columns.tolist()\n",
    "for col in object_cols:\n",
    "    df[col] = split_text_by_delimeter(df[col])"
   ]
  },
  {
   "cell_type": "markdown",
   "id": "31c0f190-b494-47dc-be95-944514393552",
   "metadata": {
    "jp-MarkdownHeadingCollapsed": true,
    "tags": []
   },
   "source": [
    "### Verify results"
   ]
  },
  {
   "cell_type": "code",
   "execution_count": 8,
   "id": "e3bfded6-d525-430f-8c24-c197ba649388",
   "metadata": {},
   "outputs": [
    {
     "name": "stdout",
     "output_type": "stream",
     "text": [
      "nan\n",
      "[]\n"
     ]
    }
   ],
   "source": [
    "i = df.sample(1).index[0]\n",
    "print(raw_df['LanguageDesireNextYear'].iloc[i])\n",
    "print(df['LanguageDesireNextYear'].iloc[i])"
   ]
  },
  {
   "cell_type": "markdown",
   "id": "f49074dd-931c-4f1c-a69e-65de57990d84",
   "metadata": {},
   "source": [
    "### Export Data"
   ]
  },
  {
   "cell_type": "code",
   "execution_count": 9,
   "id": "87ee084b-dde1-414a-a3f6-f32d6888cdd2",
   "metadata": {},
   "outputs": [],
   "source": [
    "df.to_pickle(EXPORT_PATH)"
   ]
  },
  {
   "cell_type": "code",
   "execution_count": null,
   "id": "5016425f-d4e5-494b-b2fb-373c3c8aba48",
   "metadata": {},
   "outputs": [],
   "source": []
  }
 ],
 "metadata": {
  "kernelspec": {
   "display_name": "Python 3 (ipykernel)",
   "language": "python",
   "name": "python3"
  },
  "language_info": {
   "codemirror_mode": {
    "name": "ipython",
    "version": 3
   },
   "file_extension": ".py",
   "mimetype": "text/x-python",
   "name": "python",
   "nbconvert_exporter": "python",
   "pygments_lexer": "ipython3",
   "version": "3.11.1"
  }
 },
 "nbformat": 4,
 "nbformat_minor": 5
}
